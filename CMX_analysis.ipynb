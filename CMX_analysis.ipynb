{
  "nbformat": 4,
  "nbformat_minor": 0,
  "metadata": {
    "colab": {
      "provenance": [],
      "authorship_tag": "ABX9TyPhgyPvr9tj6SKzCPrODVtn",
      "include_colab_link": true
    },
    "kernelspec": {
      "name": "python3",
      "display_name": "Python 3"
    },
    "language_info": {
      "name": "python"
    }
  },
  "cells": [
    {
      "cell_type": "markdown",
      "metadata": {
        "id": "view-in-github",
        "colab_type": "text"
      },
      "source": [
        "<a href=\"https://colab.research.google.com/github/Byounghakim/CMX/blob/main/CMX_analysis.ipynb\" target=\"_parent\"><img src=\"https://colab.research.google.com/assets/colab-badge.svg\" alt=\"Open In Colab\"/></a>"
      ]
    },
    {
      "cell_type": "markdown",
      "source": [
        "공정평가 및 주성분 함량 **분석**"
      ],
      "metadata": {
        "id": "5VbQRMht7o6L"
      }
    },
    {
      "cell_type": "markdown",
      "source": [
        "1차 추출 등 , 비교 0.01mg/g 등 내용은 추가"
      ],
      "metadata": {
        "id": "yNSnHltengIO"
      }
    },
    {
      "cell_type": "markdown",
      "source": [
        "누적 csv"
      ],
      "metadata": {
        "id": "SXxSd3NwtJtJ"
      }
    },
    {
      "cell_type": "code",
      "source": [
        "import csv\n",
        "import os\n",
        "import matplotlib.pyplot as plt\n",
        "from datetime import datetime\n",
        "from pytz import timezone\n",
        "\n",
        "def calculate_concentration(AT_input, DT_input, a=51925172.88, b=8388.80):\n",
        "    \"\"\"\n",
        "    브레빌린 A의 농도를 계산합니다.\n",
        "\n",
        "    Parameters:\n",
        "    AT_input (float): 브레빌린 A의 측정한 피크 면적 값\n",
        "    DT_input (float): 검액의 희석 배수\n",
        "    a (float): 기울기 (기본값 51925172.88)\n",
        "    b (float): Y절편 (기본값 8388.80)\n",
        "\n",
        "    Returns:\n",
        "    float: 계산된 농도 (mg/g)\n",
        "    \"\"\"\n",
        "\n",
        "    # 농도 계산 (단위: mg/g)\n",
        "    concentration = (AT_input - b) / a * DT_input\n",
        "\n",
        "    return concentration\n",
        "\n",
        "# 사용자로부터 샘플 이름, 피크 면적 값, 검액의 희석 배수를 입력받음\n",
        "sample_name = input(\"샘플 이름을 입력하세요: \")\n",
        "AT_input = float(input(f\"{sample_name}의 브레빌린 A 피크 면적 값을 입력하세요: \"))\n",
        "DT_input = float(input(\"검액의 희석 배수를 입력하세요: \"))\n",
        "\n",
        "# 농도 계산\n",
        "concentration = calculate_concentration(AT_input, DT_input)\n",
        "\n",
        "# 현재 로컬 시간 (한국 시간)\n",
        "korea_time = datetime.now(timezone('Asia/Seoul')).strftime(\"%Y-%m-%d %H:%M:%S\")\n",
        "\n",
        "# 결과 출력 (소수점 둘째 자리까지 출력)\n",
        "print(f'분석 시간: {korea_time}')\n",
        "print(f'샘플 이름: {sample_name}')\n",
        "print(f'피크 면적 값 (AT): {AT_input}, 희석 배수: {DT_input}')\n",
        "print(f'계산된 농도: {concentration:.2f} mg/g')\n",
        "\n",
        "# 결과를 CSV 파일에 저장 (분석 시간, 샘플 이름, 계산된 농도만 저장)\n",
        "csv_file = 'brevilin_a_concentration_24.csv'\n",
        "file_exists = os.path.isfile(csv_file)\n",
        "\n",
        "with open(csv_file, mode='a', newline='') as file:\n",
        "    writer = csv.writer(file)\n",
        "    if not file_exists:\n",
        "        writer.writerow(['Analysis Time', 'Sample Name', 'Concentration (mg/g)' ])\n",
        "    writer.writerow([korea_time, sample_name, f\"{concentration:.2f}\"])\n",
        "\n",
        "# 크로마토그램 그리기\n",
        "labels = ['Sample', '2mg/g']\n",
        "values = [concentration, 2]\n",
        "\n",
        "bars = plt.bar(labels, values, color=['skyblue', 'orange'])\n",
        "\n",
        "# Sample 막대 안쪽에 값 표시\n",
        "plt.text(bars[0].get_x() + bars[0].get_width() / 2, bars[0].get_height() / 2,\n",
        "         f\"{concentration:.2f} mg/g\", ha='center', va='center', color='black')\n",
        "\n",
        "plt.ylabel('Concentration (mg/g)')\n",
        "plt.title('Chromatogram')\n",
        "plt.show()\n"
      ],
      "metadata": {
        "id": "Kp9wsaV5w1D8",
        "colab": {
          "base_uri": "https://localhost:8080/",
          "height": 577
        },
        "outputId": "ac4c5a0f-525a-4438-ba04-3d7c33e06770"
      },
      "execution_count": 4,
      "outputs": [
        {
          "output_type": "stream",
          "name": "stdout",
          "text": [
            "샘플 이름을 입력하세요: test9\n",
            "test9의 브레빌린 A 피크 면적 값을 입력하세요: 1211334\n",
            "검액의 희석 배수를 입력하세요: 1\n",
            "분석 시간: 2024-06-04 09:07:32\n",
            "샘플 이름: test9\n",
            "피크 면적 값 (AT): 1211334.0, 희석 배수: 1.0\n",
            "계산된 농도: 0.02 mg/g\n"
          ]
        },
        {
          "output_type": "display_data",
          "data": {
            "text/plain": [
              "<Figure size 640x480 with 1 Axes>"
            ],
            "image/png": "[encoded data removed]"
          },
          "metadata": {}
        }
      ]
    },
    {
      "cell_type": "markdown",
      "source": [
        "backup"
      ],
      "metadata": {
        "id": "B1g8RUzL4hZK"
      }
    },
    {
      "cell_type": "code",
      "source": [
        "import csv\n",
        "import os\n",
        "import matplotlib.pyplot as plt\n",
        "from datetime import datetime\n",
        "from pytz import timezone\n",
        "\n",
        "def calculate_concentration(AT_input, DT_input, a=51925172.88, b=8388.80):\n",
        "    \"\"\"\n",
        "    브레빌린 A의 농도를 계산합니다.\n",
        "\n",
        "    Parameters:\n",
        "    AT_input (float): 브레빌린 A의 측정한 피크 면적 값\n",
        "    DT_input (float): 검액의 희석 배수\n",
        "    a (float): 기울기 (기본값 51925172.88)\n",
        "    b (float): Y절편 (기본값 8388.80)\n",
        "\n",
        "    Returns:\n",
        "    float: 계산된 농도 (mg/g)\n",
        "    \"\"\"\n",
        "\n",
        "    # 농도 계산 (단위: mg/g)\n",
        "    concentration = (AT_input - b) / a * DT_input\n",
        "\n",
        "    return concentration\n",
        "\n",
        "# 사용자로부터 샘플 이름, 피크 면적 값, 검액의 희석 배수를 입력받음\n",
        "sample_name = input(\"샘플 이름을 입력하세요: \")\n",
        "AT_input = float(input(f\"{sample_name}의 브레빌린 A 피크 면적 값을 입력하세요: \"))\n",
        "DT_input = float(input(\"검액의 희석 배수를 입력하세요: \"))\n",
        "\n",
        "# 농도 계산\n",
        "concentration = calculate_concentration(AT_input, DT_input)\n",
        "\n",
        "# 현재 로컬 시간 (한국 시간)\n",
        "korea_time = datetime.now(timezone('Asia/Seoul')).strftime(\"%Y-%m-%d %H:%M:%S\")\n",
        "\n",
        "# 결과 출력 (소수점 둘째 자리까지 출력)\n",
        "print(f'분석 시간: {korea_time}')\n",
        "print(f'샘플 이름: {sample_name}')\n",
        "print(f'피크 면적 값 (AT): {AT_input}, 희석 배수: {DT_input}')\n",
        "print(f'계산된 농도: {concentration:.2f} mg/g')\n",
        "\n",
        "# 결과를 CSV 파일에 저장 (분석 시간, 샘플 이름, 계산된 농도만 저장)\n",
        "csv_file = 'brevilin_a_concentration.csv'\n",
        "file_exists = os.path.isfile(csv_file)\n",
        "\n",
        "with open(csv_file, mode='a', newline='') as file:\n",
        "    writer = csv.writer(file)\n",
        "    if not file_exists:\n",
        "        writer.writerow(['Analysis Time', 'Sample Name', 'Concentration (mg/g)' ])\n",
        "    writer.writerow([korea_time, sample_name, f\"{concentration:.2f}\"])\n",
        "\n",
        "# 크로마토그램 그리기\n",
        "labels = ['Sample', '2mg/g']\n",
        "values = [concentration, 2]\n",
        "\n",
        "bars = plt.bar(labels, values, color=['skyblue', 'orange'])\n",
        "\n",
        "# Sample 막대 안쪽에 값 표시\n",
        "plt.text(bars[0].get_x() + bars[0].get_width() / 2, bars[0].get_height() / 2,\n",
        "         f\"{concentration:.2f} mg/g\", ha='center', va='center', color='black')\n",
        "\n",
        "plt.ylabel('Concentration (mg/g)')\n",
        "plt.title('Chromatogram')\n",
        "plt.show()\n"
      ],
      "metadata": {
        "id": "v8nKiTgx4bHR"
      },
      "execution_count": null,
      "outputs": []
    }
  ]
}